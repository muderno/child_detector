{
 "cells": [
  {
   "cell_type": "markdown",
   "metadata": {},
   "source": [
    "## Child_Detector \n",
    "\n",
    "Código baseado nos projetos: https://github.com/misbah4064/age_and_gender_detection.git , https://www.learnopencv.com/age-gender-classification-using-opencv-deep-learning-c-python/ .\n",
    "Para rodar basta descomentar, tirar o # do início da linha, os comandos abaixo e executar uma única vez. Os comandos são para ambiente linux, caso esteja em outro sistema, por favor baixe e descompacte manualmente."
   ]
  },
  {
   "cell_type": "code",
   "execution_count": 1,
   "metadata": {
    "colab": {
     "base_uri": "https://localhost:8080/",
     "height": 139
    },
    "id": "4Miwi6aYOsN8",
    "outputId": "acdbd696-cb36-47d0-9891-3ec278a14709"
   },
   "outputs": [],
   "source": [
    "# Downloading pretrained data and unzipping it\n",
    "#!wget https://drive.google.com/uc?id=1_aDScOvBeBLCn_iv0oxSO8X1ySQpSbIS\n",
    "\n",
    "#!unzip modelNweight.zip\n",
    "\n",
    "# !pipenv install\n",
    "# !pipenv shell\n"
   ]
  },
  {
   "cell_type": "code",
   "execution_count": 2,
   "metadata": {
    "id": "5wb2AHF4-zDa"
   },
   "outputs": [],
   "source": [
    "# Import required modules\n",
    "import cv2 as cv\n",
    "import math\n",
    "import time\n",
    "import numpy as np\n",
    "# from google.colab.patches import cv2_imshow\n",
    "\n",
    "def getFaceBox(net, frame, conf_threshold=0.7):\n",
    "    frameOpencvDnn = frame.copy()\n",
    "    frameHeight = frameOpencvDnn.shape[0]\n",
    "    frameWidth = frameOpencvDnn.shape[1]\n",
    "    blob = cv.dnn.blobFromImage(frameOpencvDnn, 1.0, (300, 300), [104, 117, 123], True, False)\n",
    "\n",
    "    net.setInput(blob)\n",
    "    detections = net.forward()\n",
    "    bboxes = []\n",
    "    for i in range(detections.shape[2]):\n",
    "        confidence = detections[0, 0, i, 2]\n",
    "        if confidence > conf_threshold:\n",
    "            x1 = int(detections[0, 0, i, 3] * frameWidth)\n",
    "            y1 = int(detections[0, 0, i, 4] * frameHeight)\n",
    "            x2 = int(detections[0, 0, i, 5] * frameWidth)\n",
    "            y2 = int(detections[0, 0, i, 6] * frameHeight)\n",
    "            bboxes.append([x1, y1, x2, y2])\n",
    "            cv.rectangle(frameOpencvDnn, (x1, y1), (x2, y2), (0, 255, 0), int(round(frameHeight/150)), 8)\n",
    "    return frameOpencvDnn, bboxes\n",
    "\n",
    "faceProto = \"modelNweight/opencv_face_detector.pbtxt\"\n",
    "faceModel = \"modelNweight/opencv_face_detector_uint8.pb\"\n",
    "\n",
    "ageProto = \"modelNweight/age_deploy.prototxt\"\n",
    "ageModel = \"modelNweight/age_net.caffemodel\"\n",
    "\n",
    "genderProto = \"modelNweight/gender_deploy.prototxt\"\n",
    "genderModel = \"modelNweight/gender_net.caffemodel\"\n",
    "\n",
    "MODEL_MEAN_VALUES = (78.4263377603, 87.7689143744, 114.895847746)\n",
    "genderList = ['Masculino', 'Feminino']\n",
    "\n",
    "# Load network\n",
    "ageNet = cv.dnn.readNet(ageModel, ageProto)\n",
    "genderNet = cv.dnn.readNet(genderModel, genderProto)\n",
    "faceNet = cv.dnn.readNet(faceModel, faceProto)\n",
    "\n",
    "padding = 20\n",
    "\n",
    "def age_gender_detector(frame):\n",
    "    # Read frame\n",
    "    t = time.time()\n",
    "    frameFace, bboxes = getFaceBox(faceNet, frame)\n",
    "    for bbox in bboxes:\n",
    "        face = frame[max(0,bbox[1]-padding):min(bbox[3]+padding,frame.shape[0]-1),max(0,bbox[0]-padding):min(bbox[2]+padding, frame.shape[1]-1)]\n",
    "        blob = cv.dnn.blobFromImage(face, 1.0, (227, 227), MODEL_MEAN_VALUES, swapRB=False)\n",
    "        genderNet.setInput(blob)\n",
    "        genderPreds = genderNet.forward()\n",
    "        gender = genderList[genderPreds[0].argmax()]\n",
    "        ageNet.setInput(blob)\n",
    "        agePreds = ageNet.forward()\n",
    "        if (agePreds[0].argmax()< 3):\n",
    "            label = \"Crianca {}\".format(gender)\n",
    "            cv.putText(frameFace, label, (bbox[0], bbox[1]-10), cv.FONT_HERSHEY_SIMPLEX, 0.8, (0, 255, 255), 2, cv.LINE_AA)\n",
    "            return frameFace, True\n",
    "        else:\n",
    "            return frame, False\n",
    "    "
   ]
  },
  {
   "cell_type": "code",
   "execution_count": 3,
   "metadata": {
    "colab": {
     "base_uri": "https://localhost:8080/",
     "height": 817
    },
    "id": "16V7AYthMhzg",
    "outputId": "fd03e3ef-7889-449a-e3ab-362221fd293a"
   },
   "outputs": [
    {
     "name": "stdout",
     "output_type": "stream",
     "text": [
      "É criança? True\n"
     ]
    }
   ],
   "source": [
    "input = cv.imread(\"images/baby1.jpg\")\n",
    "output, is_Child = age_gender_detector(input)\n",
    "print(\"É criança? {}\".format(is_Child))\n",
    "cv.imshow(\"\",output)\n",
    "cv.waitKey(0)\n",
    "cv.destroyAllWindows()"
   ]
  },
  {
   "cell_type": "code",
   "execution_count": 4,
   "metadata": {
    "colab": {
     "base_uri": "https://localhost:8080/",
     "height": 443
    },
    "id": "KNKEnI1eUHtT",
    "outputId": "f9149aa4-b4fb-4b32-95b3-19d4a9b25b89"
   },
   "outputs": [
    {
     "name": "stdout",
     "output_type": "stream",
     "text": [
      "É criança? False\n"
     ]
    }
   ],
   "source": [
    "input = cv.imread(\"images/image.jpg\")\n",
    "output, is_Child = age_gender_detector(input)\n",
    "print(\"É criança? {}\".format(is_Child))\n",
    "cv.imshow(\"\",output)\n",
    "cv.waitKey(0)\n",
    "cv.destroyAllWindows()"
   ]
  },
  {
   "cell_type": "code",
   "execution_count": 5,
   "metadata": {
    "colab": {
     "base_uri": "https://localhost:8080/",
     "height": 355
    },
    "id": "UmjTUWWzUKPA",
    "outputId": "8e3753a1-4481-469b-9192-3a743efe9922"
   },
   "outputs": [
    {
     "name": "stdout",
     "output_type": "stream",
     "text": [
      "É criança? False\n"
     ]
    }
   ],
   "source": [
    "input = cv.imread(\"images/teen1.jpg\")\n",
    "output, is_Child = age_gender_detector(input)\n",
    "print(\"É criança? {}\".format(is_Child))\n",
    "cv.imshow(\"\",output)\n",
    "cv.waitKey(0)\n",
    "cv.destroyAllWindows()"
   ]
  },
  {
   "cell_type": "code",
   "execution_count": 6,
   "metadata": {},
   "outputs": [],
   "source": [
    "input = cv.imread(\"images/crianca2.jpg\")\n",
    "output, _ = age_gender_detector(input)\n",
    "cv.imshow(\"\",output)\n",
    "cv.waitKey(0)\n",
    "cv.destroyAllWindows()"
   ]
  },
  {
   "cell_type": "code",
   "execution_count": 7,
   "metadata": {
    "id": "MsKWhHITV68A",
    "scrolled": true
   },
   "outputs": [
    {
     "name": "stdout",
     "output_type": "stream",
     "text": [
      "Processing Video...\n",
      "Done processing video\n"
     ]
    }
   ],
   "source": [
    "import cv2\n",
    "import numpy as np\n",
    "cap = cv2.VideoCapture(0)\n",
    "# ret, frame = cap.read()\n",
    "print(\"Processing Video...\")\n",
    "while cap.isOpened():\n",
    "    ret, frame = cap.read()\n",
    "    if ret:\n",
    "        try:\n",
    "            output, _ = age_gender_detector(frame)\n",
    "            cv.imshow(\"Camera\",output)\n",
    "            key = cv.waitKey(30)\n",
    "            if (key == 13): # Enter para sair\n",
    "                break\n",
    "        except:\n",
    "            pass\n",
    "cap.release()\n",
    "cv.destroyAllWindows()\n",
    "print(\"Done processing video\")"
   ]
  },
  {
   "cell_type": "code",
   "execution_count": null,
   "metadata": {},
   "outputs": [],
   "source": []
  }
 ],
 "metadata": {
  "colab": {
   "name": "age&genderDetection.ipynb",
   "provenance": []
  },
  "kernelspec": {
   "display_name": "Python 3",
   "language": "python",
   "name": "python3"
  },
  "language_info": {
   "codemirror_mode": {
    "name": "ipython",
    "version": 3
   },
   "file_extension": ".py",
   "mimetype": "text/x-python",
   "name": "python",
   "nbconvert_exporter": "python",
   "pygments_lexer": "ipython3",
   "version": "3.8.5"
  }
 },
 "nbformat": 4,
 "nbformat_minor": 1
}
